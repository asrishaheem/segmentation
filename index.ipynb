{
 "cells": [
  {
   "cell_type": "code",
   "execution_count": null,
   "metadata": {},
   "outputs": [],
   "source": [
    "#hide\n",
    "from segmentation.core import *"
   ]
  },
  {
   "cell_type": "code",
   "execution_count": null,
   "metadata": {},
   "outputs": [],
   "source": [
    "#hide\n",
    "%load_ext autoreload\n",
    "%autoreload 2"
   ]
  },
  {
   "cell_type": "markdown",
   "metadata": {},
   "source": [
    "# Machine Learning nbdev template\n",
    "\n",
    "> Template for development of machine learning packages using nbdev"
   ]
  },
  {
   "cell_type": "markdown",
   "metadata": {},
   "source": [
    "Clone this repository to start any new project or package development"
   ]
  },
  {
   "cell_type": "markdown",
   "metadata": {},
   "source": [
    "# Install"
   ]
  },
  {
   "cell_type": "markdown",
   "metadata": {},
   "source": [
    "## Activate conda environment\n",
    "\n",
    "Run\n",
    "\n",
    "```\n",
    "conda deactivate\n",
    "conda create --name nbdev\n",
    "conda activate nbdev\n",
    "```\n",
    "\n",
    "Now install nbdev and fastcore\n",
    "\n",
    "```\n",
    "pip install nbdev\n",
    "pip install fastcore\n",
    "```\n",
    "\n",
    "### Additional environments\n",
    "\n",
    "Download ymls from envs directory in https://github.com/asrishaheem/segmentation/ \n",
    "\n",
    "* This contains envs directory with some yaml files\n",
    "* These will create an env called nbdev (change as needed\n",
    "* Previously, it was found that nbdev is better stalled using pip\n",
    "\n",
    "\n",
    "```\n",
    "conda env update --file envs/ml-base.yml\n",
    "conda env update --file envs/jupyter.yml\n",
    "```\n",
    "\n",
    "    \n",
    "And choose from the following as needed\n",
    "\n",
    "```\n",
    "conda env update --file envs/pytorch.yml\n",
    "conda env update --file envs/mlflow.yml\n",
    "conda env update --file envs/tensorflow.yml\n",
    "conda env update --file envs/dvc.yml\n",
    "```\n",
    "\n",
    "And activate the environment\n",
    "\n",
    "```\n",
    "conda activate nbdev\n",
    "```\n",
    "\n",
    "Ensure reccomended jupyter extensions are enabled\n",
    "\n",
    "```\n",
    "jupyter nbextensions_configurator enable --user\n",
    "jupyter contrib nbextension install --user\n",
    "jupyter notebook\n",
    "```\n",
    "\n",
    "Navigate to [nbextensions](http://localhost:8888/nbextensions) and check that Table of Contents 2 and collapsable headings are enabled.\n",
    "\n",
    "Exit jupyter notebook (CTRL+C)\n",
    "\n"
   ]
  },
  {
   "cell_type": "markdown",
   "metadata": {},
   "source": [
    "## Create new nbdev project\n",
    "\n",
    "* Note the project name \"new_project\" must only use underscore and must not begin with a number\n",
    "* Basically, you should be able to name a python variable with this string\n",
    "\n",
    "```\n",
    "conda activate nbdev\n",
    "```\n",
    "\n",
    "\n",
    "```\n",
    "cd root/directory/for/new_project\n",
    "nbdev_new new_project\n",
    "cd new_project\n",
    "```\n"
   ]
  },
  {
   "cell_type": "markdown",
   "metadata": {},
   "source": [
    "## Edit settings.ini\n",
    "\n",
    "```\n",
    "code .\n",
    "```\n",
    "\n",
    "Change the following \n",
    "* Make sure th change lib_name to the name of the new project\n",
    "* Replace all between user and branch as follows\n",
    "\n",
    "```\n",
    "[DEFAULT]\n",
    "lib_name = new_project\n",
    "user = asrishaheem\n",
    "description = asrishaheem\n",
    "keywords = asrishaheem\n",
    "author = asrishaheem\n",
    "author_email = asrishaheem@gmail.com\n",
    "copyright = asrishaheem\n",
    "branch = master\n",
    "conda_requirements = numpy\n",
    "\n",
    "```"
   ]
  },
  {
   "cell_type": "markdown",
   "metadata": {},
   "source": [
    "## Create new repository on github\n",
    "\n",
    "```\n",
    "gh repo create new_project\n",
    "```\n",
    "\n",
    "* Select private\n",
    "* Y\n",
    "\n",
    "Make first commit\n",
    "\n",
    "```\n",
    "git add .\n",
    "git commit -m \"First commit\"\n",
    "git push --set-upstream origin master\n",
    "```"
   ]
  },
  {
   "cell_type": "markdown",
   "metadata": {},
   "source": [
    "## Set up project\n",
    "\n",
    "### Housekeeping (needed on my pc)\n",
    "\n",
    "```\n",
    "mkdir ./docs/_data\n",
    "sed -i 's/your_lib/new_project/g' index.ipynb\n",
    "```\n",
    "\n",
    "### Install webhooks\n",
    "\n",
    "```\n",
    "nbdev_install_git_hooks\n",
    "```\n",
    "\n",
    "### Run nbdev tests\n",
    "\n",
    "```\n",
    "nbdev_build_lib\n",
    "nbdev_update_lib\n",
    "nbdev_test_nbs\n",
    "nbdev_read_nbs\n",
    "nbdev_build_docs\n",
    "```"
   ]
  },
  {
   "cell_type": "markdown",
   "metadata": {},
   "source": [
    "### Trouble shoot\n",
    "\n",
    "\n",
    "If build docs fails try:\n",
    "\n",
    "```\n",
    "pip uninstall nbdev\n",
    "pip install nbdev\n",
    "```\n",
    "\n",
    "If it still fails try\n",
    "\n",
    "```\n",
    "conda remove nbconvert\n",
    "conda install nbconvert=5.6.1\n",
    "```"
   ]
  },
  {
   "cell_type": "markdown",
   "metadata": {},
   "source": [
    "### Check that project installs\n",
    "\n",
    "```\n",
    "pip install -e .\n",
    "```"
   ]
  },
  {
   "cell_type": "markdown",
   "metadata": {},
   "source": [
    "## Run jupyter\n",
    "\n",
    "```\n",
    "jupyter notebook\n",
    "```\n",
    "\n",
    "* Log into notebook (might be serving at different port than 8888 if another jupyter is arleady running)\n",
    "\n",
    "* Edit/create new packages as needed"
   ]
  },
  {
   "cell_type": "code",
   "execution_count": null,
   "metadata": {},
   "outputs": [],
   "source": [
    "from segmentation.magic import *\n",
    "ability = Ability(100,\"fire\")"
   ]
  },
  {
   "cell_type": "code",
   "execution_count": null,
   "metadata": {},
   "outputs": [],
   "source": [
    "#hide\n",
    "from nbdev.export import notebook2script\n",
    "notebook2script()"
   ]
  },
  {
   "cell_type": "code",
   "execution_count": null,
   "metadata": {},
   "outputs": [],
   "source": []
  }
 ],
 "metadata": {
  "kernelspec": {
   "display_name": "Python 3",
   "language": "python",
   "name": "python3"
  }
 },
 "nbformat": 4,
 "nbformat_minor": 2
}
