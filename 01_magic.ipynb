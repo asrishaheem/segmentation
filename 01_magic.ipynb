{
 "cells": [
  {
   "cell_type": "code",
   "execution_count": null,
   "metadata": {},
   "outputs": [],
   "source": [
    "# default_exp magic"
   ]
  },
  {
   "cell_type": "markdown",
   "metadata": {},
   "source": [
    "# Project name here\n",
    "\n",
    "> Summary description here."
   ]
  },
  {
   "cell_type": "code",
   "execution_count": null,
   "metadata": {},
   "outputs": [],
   "source": [
    "%load_ext autoreload\n",
    "%autoreload 2"
   ]
  },
  {
   "cell_type": "code",
   "execution_count": null,
   "metadata": {},
   "outputs": [],
   "source": [
    "#hide\n",
    "from nbdev.showdoc import *"
   ]
  },
  {
   "cell_type": "markdown",
   "metadata": {},
   "source": [
    "# Create my first class\n",
    "\n",
    "Here is an equation\n",
    "\n",
    "$$\\exp(-j \\pi)$$"
   ]
  },
  {
   "cell_type": "code",
   "execution_count": null,
   "metadata": {},
   "outputs": [],
   "source": [
    "#export\n",
    "class Ability:\n",
    "    ability_types = [\"fire\", \"water\"]\n",
    "\n",
    "    def __init__(self, damage, damage_type):\n",
    "        self.damage = damage\n",
    "        self.damage_type = damage_type\n",
    "\n",
    "    def __str__(self):\n",
    "        if self.damage_type == \"fire\":\n",
    "            return \"a jet of fire shot towards\"\n",
    "        elif self.damage_type == \"water\":\n",
    "            return \"ice cold water is flung towards\""
   ]
  },
  {
   "cell_type": "code",
   "execution_count": null,
   "metadata": {},
   "outputs": [
    {
     "name": "stdout",
     "output_type": "stream",
     "text": [
      "a jet of fire shot towards\n"
     ]
    }
   ],
   "source": [
    "# A test cell that will not be exported\n",
    "ability = Ability(100,\"fire\")\n",
    "print(ability)"
   ]
  },
  {
   "cell_type": "markdown",
   "metadata": {},
   "source": [
    "# Create next class"
   ]
  },
  {
   "cell_type": "code",
   "execution_count": null,
   "metadata": {},
   "outputs": [],
   "source": [
    "#export\n",
    "class Character:\n",
    "    def __init__(self, name, max_health, ability):\n",
    "        self.name = name\n",
    "        self.max_health = max_health\n",
    "        self.current_health = max_health\n",
    "        self.ability = ability\n",
    "        self.level = 1\n",
    "\n",
    "    def __str__(self):\n",
    "        return f\"\"\"\\\n",
    "        {self.name}'s Current Health: {self.current_health}\n",
    "        {self.name}'s Max Health: {self.max_health}\n",
    "        {self.name}'s Ability Damage: {self.ability.damage}\n",
    "        {self.name}'s Ability Type: {self.ability.damage_type}\n",
    "        \"\"\""
   ]
  },
  {
   "cell_type": "code",
   "execution_count": null,
   "metadata": {},
   "outputs": [],
   "source": [
    "# This cell will also not be exported to my python package\n",
    "char = Character(\"Mr Mage\", 100, ability)"
   ]
  },
  {
   "cell_type": "code",
   "execution_count": null,
   "metadata": {},
   "outputs": [],
   "source": [
    "#export\n",
    "class Mage(Character):\n",
    "    def __init__(self, name, max_health, ability):\n",
    "        super().__init__(name, max_health, ability)\n",
    "\n",
    "    def attack(self, target):\n",
    "        print(f\"From {self.name}'s wand, {self.ability} {target.name}.\")\n",
    "        target.current_health -= self.ability.damage\n",
    "\n",
    "    def level_up(self):\n",
    "        self.level += 1\n",
    "        self.max_health = self.max_health * self.level\n",
    "        self.current_health = self.max_health\n",
    "        self.ability.damage = self.ability.damage * self.level"
   ]
  },
  {
   "cell_type": "markdown",
   "metadata": {},
   "source": [
    "# Create next class"
   ]
  },
  {
   "cell_type": "code",
   "execution_count": null,
   "metadata": {},
   "outputs": [],
   "source": [
    "#export\n",
    "class Demon(Character):\n",
    "    def __init__(self, name, max_health):\n",
    "        super().__init__(name, max_health, Ability(10, \"fire\"))\n",
    "\n",
    "    def attack(self, target):\n",
    "        print(f\"From {self.name}'s wand, {self.ability} {target.name}.\")\n",
    "        target.current_health -= self.ability.damage"
   ]
  },
  {
   "cell_type": "markdown",
   "metadata": {},
   "source": [
    "### Some testing cells"
   ]
  },
  {
   "cell_type": "code",
   "execution_count": null,
   "metadata": {},
   "outputs": [],
   "source": [
    "mage = Mage(\"Mr Mage\", 100, Ability(10, \"water\"))\n"
   ]
  },
  {
   "cell_type": "code",
   "execution_count": null,
   "metadata": {},
   "outputs": [
    {
     "name": "stdout",
     "output_type": "stream",
     "text": [
      "From Mr Mage's wand, ice cold water is flung towards Mr Mage.\n"
     ]
    }
   ],
   "source": [
    "mage.attack(mage)"
   ]
  },
  {
   "cell_type": "code",
   "execution_count": null,
   "metadata": {},
   "outputs": [
    {
     "name": "stdout",
     "output_type": "stream",
     "text": [
      "        Mr Mage's Current Health: 90\n",
      "        Mr Mage's Max Health: 100\n",
      "        Mr Mage's Ability Damage: 10\n",
      "        Mr Mage's Ability Type: water\n",
      "        \n"
     ]
    }
   ],
   "source": [
    "print(mage)"
   ]
  },
  {
   "cell_type": "code",
   "execution_count": null,
   "metadata": {},
   "outputs": [
    {
     "name": "stdout",
     "output_type": "stream",
     "text": [
      "Converted 00_core.ipynb.\n",
      "Converted 01_magic.ipynb.\n",
      "Converted index.ipynb.\n"
     ]
    }
   ],
   "source": [
    "#hide\n",
    "from nbdev.export import notebook2script\n",
    "notebook2script()"
   ]
  },
  {
   "cell_type": "code",
   "execution_count": null,
   "metadata": {},
   "outputs": [],
   "source": []
  }
 ],
 "metadata": {
  "kernelspec": {
   "display_name": "Python 3",
   "language": "python",
   "name": "python3"
  }
 },
 "nbformat": 4,
 "nbformat_minor": 2
}
